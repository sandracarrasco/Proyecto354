{
 "cells": [
  {
   "cell_type": "markdown",
   "metadata": {},
   "source": [
    "<h1>Datos de IMDB de 2006 a 2016</h1>"
   ]
  },
  {
   "cell_type": "markdown",
   "metadata": {},
   "source": [
    "ANALISIS"
   ]
  },
  {
   "cell_type": "markdown",
   "metadata": {},
   "source": [
    "MDb son las siglas en inglés de Internet Movie Database (base de datos de películas en Internet, en español) y se refiere a una página con información relacionada a películas, programas de televisión y juegos de vídeo. La página de IMDb.com (en inglés) es una de las más populares para consultar información no sólo sobre películas, juegos y programas, sino también información referente a actores, productores, directores y hasta personajes ficticios."
   ]
  },
  {
   "cell_type": "markdown",
   "metadata": {},
   "source": [
    "Un conjunto de datos de 1,000 películas populares en IMDB en los últimos 10 años"
   ]
  },
  {
   "cell_type": "markdown",
   "metadata": {},
   "source": [
    "Descripción de columnas:\n",
    "\n",
    "Ranking,Título, Género, Descripción, Director, Actores, Año, Tiempo de ejecución, Calificación, Votos(los votos que tiene la pelicula), Ingresos, Metascore (puntuacion de la pelicula)"
   ]
  },
  {
   "cell_type": "markdown",
   "metadata": {},
   "source": [
    "Con el conjunto de datos analizaremos que generos son los mas elegidos "
   ]
  },
  {
   "cell_type": "markdown",
   "metadata": {},
   "source": [
    "SOLUCION"
   ]
  },
  {
   "cell_type": "markdown",
   "metadata": {},
   "source": [
    "Primeramente leemos el archivo con el que se trabajará y se llama data.csv"
   ]
  },
  {
   "cell_type": "code",
   "execution_count": 18,
   "metadata": {},
   "outputs": [
    {
     "name": "stdout",
     "output_type": "stream",
     "text": [
      "     Rank                    Title                  Genre  \\\n",
      "0       1  Guardians of the Galaxy              Adventure   \n",
      "1       2               Prometheus              Adventure   \n",
      "2       3                    Split                 Horror   \n",
      "3       4                     Sing              Animation   \n",
      "4       5            Suicide Squad              Adventure   \n",
      "..    ...                      ...                    ...   \n",
      "995   996     Secret in Their Eyes    Crime,Drama,Mystery   \n",
      "996   997          Hostel: Part II                 Horror   \n",
      "997   998   Step Up 2: The Streets    Drama,Music,Romance   \n",
      "998   999             Search Party       Adventure,Comedy   \n",
      "999  1000               Nine Lives  Comedy,Family,Fantasy   \n",
      "\n",
      "                                           Description              Director  \\\n",
      "0    A group of intergalactic criminals are forced ...            James Gunn   \n",
      "1    Following clues to the origin of mankind, a te...          Ridley Scott   \n",
      "2    Three girls are kidnapped by a man with a diag...    M. Night Shyamalan   \n",
      "3    In a city of humanoid animals, a hustling thea...  Christophe Lourdelet   \n",
      "4    A secret government agency recruits some of th...            David Ayer   \n",
      "..                                                 ...                   ...   \n",
      "995  A tight-knit team of rising investigators, alo...             Billy Ray   \n",
      "996  Three American college students studying abroa...              Eli Roth   \n",
      "997  Romantic sparks occur between two dance studen...            Jon M. Chu   \n",
      "998  A pair of friends embark on a mission to reuni...        Scot Armstrong   \n",
      "999  A stuffy businessman finds himself trapped ins...      Barry Sonnenfeld   \n",
      "\n",
      "                                                Actors  Year  \\\n",
      "0    Chris Pratt, Vin Diesel, Bradley Cooper, Zoe S...  2014   \n",
      "1    Noomi Rapace, Logan Marshall-Green, Michael Fa...  2012   \n",
      "2    James McAvoy, Anya Taylor-Joy, Haley Lu Richar...  2016   \n",
      "3    Matthew McConaughey,Reese Witherspoon, Seth Ma...  2016   \n",
      "4    Will Smith, Jared Leto, Margot Robbie, Viola D...  2016   \n",
      "..                                                 ...   ...   \n",
      "995  Chiwetel Ejiofor, Nicole Kidman, Julia Roberts...  2015   \n",
      "996  Lauren German, Heather Matarazzo, Bijou Philli...  2007   \n",
      "997  Robert Hoffman, Briana Evigan, Cassie Ventura,...  2008   \n",
      "998  Adam Pally, T.J. Miller, Thomas Middleditch,Sh...  2014   \n",
      "999  Kevin Spacey, Jennifer Garner, Robbie Amell,Ch...  2016   \n",
      "\n",
      "     Runtime (Minutes)  Rating   Votes  Revenue (Millions)  Metascore  \n",
      "0                  121     8.1  757074              333.13       76.0  \n",
      "1                  124     7.0  485820              126.46       65.0  \n",
      "2                  117     7.3  157606              138.12       62.0  \n",
      "3                  108     7.2   60545              270.32       59.0  \n",
      "4                  123     6.2  393727              325.02       40.0  \n",
      "..                 ...     ...     ...                 ...        ...  \n",
      "995                111     6.2   27585                 NaN       45.0  \n",
      "996                 94     5.5   73152               17.54       46.0  \n",
      "997                 98     6.2   70699               58.01       50.0  \n",
      "998                 93     5.6    4881                 NaN       22.0  \n",
      "999                 87     5.3   12435               19.64       11.0  \n",
      "\n",
      "[1000 rows x 12 columns]\n"
     ]
    }
   ],
   "source": [
    "import pandas as pd\n",
    "import numpy as np\n",
    "pelis = pd.read_csv(\"data.csv\")\n",
    "print(pelis)"
   ]
  },
  {
   "cell_type": "markdown",
   "metadata": {},
   "source": [
    "PREPROCESAMIENTO\n",
    "\n",
    "\n",
    "Ahora realizaremos el preprocesamiento para no tener datos nulos"
   ]
  },
  {
   "cell_type": "markdown",
   "metadata": {},
   "source": [
    "A) Vemos donde tenemos datos nulos para poder aplicar el preprocesamiento"
   ]
  },
  {
   "cell_type": "code",
   "execution_count": 19,
   "metadata": {},
   "outputs": [
    {
     "name": "stdout",
     "output_type": "stream",
     "text": [
      "Rank                    0\n",
      "Title                   0\n",
      "Genre                   0\n",
      "Description             0\n",
      "Director                0\n",
      "Actors                  0\n",
      "Year                    0\n",
      "Runtime (Minutes)       0\n",
      "Rating                  0\n",
      "Votes                   0\n",
      "Revenue (Millions)    128\n",
      "Metascore              64\n",
      "dtype: int64\n"
     ]
    }
   ],
   "source": [
    "print(pelis.isnull().sum()) "
   ]
  },
  {
   "cell_type": "markdown",
   "metadata": {},
   "source": [
    "vamos a procesar los datos nullos para no tenerlos con la media "
   ]
  },
  {
   "cell_type": "code",
   "execution_count": 20,
   "metadata": {},
   "outputs": [
    {
     "name": "stdout",
     "output_type": "stream",
     "text": [
      "0      333.130000\n",
      "1      126.460000\n",
      "2      138.120000\n",
      "3      270.320000\n",
      "4      325.020000\n",
      "          ...    \n",
      "995     82.956376\n",
      "996     17.540000\n",
      "997     58.010000\n",
      "998     82.956376\n",
      "999     19.640000\n",
      "Name: Revenue (Millions), Length: 1000, dtype: float64\n",
      "0      76.0\n",
      "1      65.0\n",
      "2      62.0\n",
      "3      59.0\n",
      "4      40.0\n",
      "       ... \n",
      "995    45.0\n",
      "996    46.0\n",
      "997    50.0\n",
      "998    22.0\n",
      "999    11.0\n",
      "Name: Metascore, Length: 1000, dtype: float64\n"
     ]
    }
   ],
   "source": [
    "media=pelis['Revenue (Millions)']\n",
    "media2=pelis['Metascore']\n",
    "\n",
    "\n",
    "\n",
    "mean=media.mean()\n",
    "media.fillna(mean,axis=0,inplace=True)\n",
    "print(media)\n",
    "mean1=media2.mean()\n",
    "media2.fillna(mean1,axis=0,inplace=True)\n",
    "print (media2)\n",
    "\n",
    "\n"
   ]
  },
  {
   "cell_type": "markdown",
   "metadata": {},
   "source": [
    "Comprobamos si ya no tenemos datos nulos"
   ]
  },
  {
   "cell_type": "code",
   "execution_count": 21,
   "metadata": {},
   "outputs": [
    {
     "name": "stdout",
     "output_type": "stream",
     "text": [
      "Rank                  0\n",
      "Title                 0\n",
      "Genre                 0\n",
      "Description           0\n",
      "Director              0\n",
      "Actors                0\n",
      "Year                  0\n",
      "Runtime (Minutes)     0\n",
      "Rating                0\n",
      "Votes                 0\n",
      "Revenue (Millions)    0\n",
      "Metascore             0\n",
      "dtype: int64\n"
     ]
    }
   ],
   "source": [
    "print(pelis.isnull().sum()) "
   ]
  },
  {
   "cell_type": "markdown",
   "metadata": {},
   "source": [
    "veremos el tipo de datos que tengo en las columnas ,necesito que sean numericas para poder realizar el entrenamiento "
   ]
  },
  {
   "cell_type": "code",
   "execution_count": 22,
   "metadata": {},
   "outputs": [
    {
     "name": "stdout",
     "output_type": "stream",
     "text": [
      "<class 'pandas.core.frame.DataFrame'>\n",
      "RangeIndex: 1000 entries, 0 to 999\n",
      "Data columns (total 12 columns):\n",
      " #   Column              Non-Null Count  Dtype  \n",
      "---  ------              --------------  -----  \n",
      " 0   Rank                1000 non-null   int64  \n",
      " 1   Title               1000 non-null   object \n",
      " 2   Genre               1000 non-null   object \n",
      " 3   Description         1000 non-null   object \n",
      " 4   Director            1000 non-null   object \n",
      " 5   Actors              1000 non-null   object \n",
      " 6   Year                1000 non-null   int64  \n",
      " 7   Runtime (Minutes)   1000 non-null   int64  \n",
      " 8   Rating              1000 non-null   float64\n",
      " 9   Votes               1000 non-null   int64  \n",
      " 10  Revenue (Millions)  1000 non-null   float64\n",
      " 11  Metascore           1000 non-null   float64\n",
      "dtypes: float64(3), int64(4), object(5)\n",
      "memory usage: 93.9+ KB\n",
      "None\n"
     ]
    }
   ],
   "source": [
    "print(pelis.info())"
   ]
  },
  {
   "cell_type": "markdown",
   "metadata": {},
   "source": [
    "Los datos que necesito para analizar son metascore el formato en el que esta es correcto,el genero se debe convertir , y Rating que esta en el formato adecuado para realizar la division de los splits"
   ]
  },
  {
   "cell_type": "code",
   "execution_count": 28,
   "metadata": {},
   "outputs": [
    {
     "name": "stdout",
     "output_type": "stream",
     "text": [
      "0       56\n",
      "1       56\n",
      "2      191\n",
      "3       86\n",
      "4       56\n",
      "      ... \n",
      "995    144\n",
      "996    191\n",
      "997    170\n",
      "998     60\n",
      "999    121\n",
      "Name: Genre, Length: 1000, dtype: int32\n"
     ]
    }
   ],
   "source": [
    "from sklearn.preprocessing import LabelEncoder\n",
    "encoder=LabelEncoder()\n",
    "nuevo=pelis['Genre']\n",
    "pelis['Genre']=encoder.fit_transform(pelis.Genre.values)# Encoder sirve para convertir a un dato numerico, un texto .Trnsforma los valores\n",
    "\n",
    "print(pelis['Genre'])\n"
   ]
  },
  {
   "cell_type": "markdown",
   "metadata": {},
   "source": [
    "comprobamos los datos de las columnas que necesitamos"
   ]
  },
  {
   "cell_type": "code",
   "execution_count": 29,
   "metadata": {},
   "outputs": [
    {
     "name": "stdout",
     "output_type": "stream",
     "text": [
      "<class 'pandas.core.frame.DataFrame'>\n",
      "RangeIndex: 1000 entries, 0 to 999\n",
      "Data columns (total 12 columns):\n",
      " #   Column              Non-Null Count  Dtype  \n",
      "---  ------              --------------  -----  \n",
      " 0   Rank                1000 non-null   int64  \n",
      " 1   Title               1000 non-null   object \n",
      " 2   Genre               1000 non-null   int32  \n",
      " 3   Description         1000 non-null   object \n",
      " 4   Director            1000 non-null   object \n",
      " 5   Actors              1000 non-null   object \n",
      " 6   Year                1000 non-null   int64  \n",
      " 7   Runtime (Minutes)   1000 non-null   int64  \n",
      " 8   Rating              1000 non-null   float64\n",
      " 9   Votes               1000 non-null   int64  \n",
      " 10  Revenue (Millions)  1000 non-null   float64\n",
      " 11  Metascore           1000 non-null   float64\n",
      "dtypes: float64(3), int32(1), int64(4), object(4)\n",
      "memory usage: 90.0+ KB\n",
      "None\n"
     ]
    }
   ],
   "source": [
    "print(pelis.info())\n"
   ]
  },
  {
   "cell_type": "markdown",
   "metadata": {},
   "source": [
    "Podemos visualizar que Genre es de tipo int32"
   ]
  },
  {
   "cell_type": "markdown",
   "metadata": {},
   "source": [
    "Asignamos a las variables lo que utilizaremos para X Rating y metascore ;para Y Genre"
   ]
  },
  {
   "cell_type": "code",
   "execution_count": 30,
   "metadata": {},
   "outputs": [],
   "source": [
    "\n",
    "X=pelis[['Rating','Metascore']]\n",
    "y=pelis['Genre']\n",
    "\n"
   ]
  },
  {
   "cell_type": "markdown",
   "metadata": {},
   "source": [
    "imprimos los datos que se encuentra en X y "
   ]
  },
  {
   "cell_type": "code",
   "execution_count": 31,
   "metadata": {},
   "outputs": [
    {
     "name": "stdout",
     "output_type": "stream",
     "text": [
      "     Rating  Metascore\n",
      "0       8.1       76.0\n",
      "1       7.0       65.0\n",
      "2       7.3       62.0\n",
      "3       7.2       59.0\n",
      "4       6.2       40.0\n",
      "..      ...        ...\n",
      "995     6.2       45.0\n",
      "996     5.5       46.0\n",
      "997     6.2       50.0\n",
      "998     5.6       22.0\n",
      "999     5.3       11.0\n",
      "\n",
      "[1000 rows x 2 columns]\n",
      "0       56\n",
      "1       56\n",
      "2      191\n",
      "3       86\n",
      "4       56\n",
      "      ... \n",
      "995    144\n",
      "996    191\n",
      "997    170\n",
      "998     60\n",
      "999    121\n",
      "Name: Genre, Length: 1000, dtype: int32\n"
     ]
    }
   ],
   "source": [
    "print(X)\n",
    "print(y)"
   ]
  },
  {
   "cell_type": "markdown",
   "metadata": {},
   "source": [
    "En el siguiente codigo realizamos una red neuronal primeramente separados los datos con train_test_split ,despues estandarizamos los datos que quiere decir que su desviacion es casi uno los pesos no estaran dispersos,despues utilizaremos MLPClassifier para la clasificacion de los datos donde tendremos las capas de entrada ,salida,las iteraciones.Entonces realizaremos la prediccion con los datos que se tiene. y realizamos la clasificacion"
   ]
  },
  {
   "cell_type": "code",
   "execution_count": 55,
   "metadata": {
    "scrolled": false
   },
   "outputs": [
    {
     "name": "stdout",
     "output_type": "stream",
     "text": [
      "['Adventure,Crime,Mystery' 'Drama,Mystery,Romance' 'Drama'\n",
      " 'Adventure,Comedy,Drama' 'Drama,War' 'Adventure' 'Comedy,Romance'\n",
      " 'Adventure,Drama,Fantasy' 'Drama,Romance,Sci-Fi' 'Drama' 'Action'\n",
      " 'Mystery,Thriller' 'Comedy,Drama,Romance' 'Comedy,Drama,Romance'\n",
      " 'Drama,History,Thriller' 'Animation,Adventure,Comedy'\n",
      " 'Action,Sci-Fi,Thriller' 'Crime,Drama,Mystery' 'Action,Adventure,Sci-Fi'\n",
      " 'Action,Adventure,Sci-Fi' 'Horror' 'Drama,Music,Romance'\n",
      " 'Drama,Mystery,Sci-Fi' 'Drama' 'Drama' 'Drama,Fantasy,Mystery'\n",
      " 'Adventure,Drama,War' 'Drama' 'Action,Adventure,Drama'\n",
      " 'Comedy,Crime,Drama' 'Drama,Music,Romance' 'Action,Adventure,Sci-Fi'\n",
      " 'Drama,Fantasy' 'Action,Adventure,Family' 'Action,Comedy'\n",
      " 'Drama,Horror,Thriller' 'Action,Adventure,Comedy'\n",
      " 'Adventure,Comedy,Drama' 'Action,Adventure,Fantasy'\n",
      " 'Animation,Action,Comedy' 'Crime,Drama,Thriller'\n",
      " 'Action,Adventure,Sci-Fi' 'Action,Adventure,Sci-Fi' 'Crime,Drama,Mystery'\n",
      " 'Drama,Mystery,Thriller' 'Biography,Drama,History'\n",
      " 'Adventure,Family,Fantasy' 'Action,Horror,Romance' 'Drama' 'Animation'\n",
      " 'Action' 'Comedy' 'Drama,Music,Romance' 'Action,Adventure,Fantasy'\n",
      " 'Action,Adventure,Sci-Fi' 'Action' 'Drama,Fantasy,Musical' 'Crime,Drama'\n",
      " 'Comedy,Family' 'Drama,Fantasy,Romance' 'Adventure,Fantasy,Mystery'\n",
      " 'Drama' 'Action,Comedy,Sport' 'Action,Adventure,Sci-Fi'\n",
      " 'Action,Adventure,Sci-Fi' 'Drama' 'Action,Adventure,Crime'\n",
      " 'Action,Adventure,Horror' 'Horror,Sci-Fi,Thriller'\n",
      " 'Action,Adventure,Sci-Fi' 'Animation,Adventure,Comedy'\n",
      " 'Action,Adventure,Sci-Fi' 'Action,Adventure' 'Drama' 'Drama'\n",
      " 'Drama,Horror,Musical' 'Horror,Mystery' 'Action,Comedy,Crime'\n",
      " 'Adventure,Comedy' 'Adventure,Mystery,Sci-Fi' 'Horror,Sci-Fi,Thriller'\n",
      " 'Crime,Drama,Mystery' 'Mystery,Thriller' 'Action,Thriller'\n",
      " 'Action,Adventure,Sci-Fi' 'Action,Drama,Horror' 'Thriller'\n",
      " 'Adventure,Mystery,Sci-Fi' 'Action,Comedy,Sport'\n",
      " 'Action,Adventure,Sci-Fi' 'Action,Comedy' 'Action,Adventure,Fantasy'\n",
      " 'Adventure,Drama,Sci-Fi' 'Drama,Romance,Thriller' 'Drama'\n",
      " 'Comedy,Romance' 'Action,Crime,Drama' 'Animation,Adventure,Family'\n",
      " 'Drama' 'Adventure,Family,Fantasy' 'Action,Adventure,Family' 'Action'\n",
      " 'Horror' 'Biography,Drama,History' 'Drama,Romance'\n",
      " 'Drama,Mystery,Thriller' 'Action,Mystery,Sci-Fi'\n",
      " 'Action,Adventure,Horror' 'Action,Comedy,Mystery' 'Horror,Mystery'\n",
      " 'Action,Adventure,Sci-Fi' 'Drama,Family' 'Biography,Drama,Thriller'\n",
      " 'Action,Adventure,Comedy' 'Adventure,Mystery,Sci-Fi' 'Drama,Music'\n",
      " 'Drama,Mystery,Sci-Fi' 'Action,Adventure,Fantasy' 'Comedy,Crime,Thriller'\n",
      " 'Horror,Thriller' 'Crime,Drama,Fantasy' 'Comedy,Crime,Drama'\n",
      " 'Adventure,Biography,Crime' 'Action,Comedy,Crime'\n",
      " 'Action,Adventure,Fantasy' 'Action,Drama,Sci-Fi'\n",
      " 'Action,Adventure,Fantasy' 'Drama,Mystery,War' 'Drama,Mystery,Thriller'\n",
      " 'Adventure,Comedy,Drama' 'Comedy,Crime,Drama' 'Action,Sci-Fi,Thriller'\n",
      " 'Crime,Drama' 'Crime,Horror,Thriller' 'Action' 'Drama,War'\n",
      " 'Adventure,Comedy,Drama' 'Comedy' 'Action,Comedy,Horror'\n",
      " 'Comedy,Fantasy,Horror' 'Comedy,Romance' 'Comedy,Horror,Romance'\n",
      " 'Drama,History,Thriller' 'Action,Adventure,Fantasy'\n",
      " 'Drama,Family,Fantasy' 'Adventure,Drama,Sci-Fi' 'Comedy,Drama,Romance'\n",
      " 'Drama,Mystery,War' 'Action,Adventure,Fantasy' 'Drama,History'\n",
      " 'Animation,Adventure,Comedy' 'Action,Adventure,Fantasy' 'Drama,Sport'\n",
      " 'Animation,Adventure,Comedy' 'Action,Adventure,Comedy'\n",
      " 'Action,Comedy,Crime' 'Comedy,Crime' 'Action,Adventure,Sci-Fi'\n",
      " 'Comedy,Horror,Romance' 'Crime,Thriller' 'Action,Crime,Thriller'\n",
      " 'Drama,Mystery,Sci-Fi' 'Drama,History,Thriller' 'Crime,Drama,Mystery'\n",
      " 'Comedy,Romance' 'Action,Adventure,Fantasy' 'Drama,Mystery,Sci-Fi'\n",
      " 'Comedy,Family' 'Fantasy,Mystery,Thriller' 'Comedy,Horror'\n",
      " 'Action,Drama,Family' 'Action,Comedy,Mystery' 'Drama,War' 'Drama,Romance'\n",
      " 'Animation,Family,Fantasy' 'Crime,Drama,Mystery' 'Drama,Mystery,Romance'\n",
      " 'Drama,Fantasy,Horror' 'Drama,Sci-Fi,Thriller' 'Crime,Drama,Mystery'\n",
      " 'Adventure,Mystery,Sci-Fi' 'Crime,Drama,Thriller'\n",
      " 'Action,Adventure,Sci-Fi' 'Comedy,Music,Romance'\n",
      " 'Animation,Adventure,Comedy' 'Drama,Sci-Fi' 'Animation,Adventure,Comedy'\n",
      " 'Action,Drama,Mystery' 'Horror,Mystery,Thriller' 'Action,Drama,Fantasy'\n",
      " 'Action,Adventure,Horror' 'Crime,Drama,Mystery'\n",
      " 'Action,Adventure,Fantasy' 'Horror,Thriller' 'Mystery,Sci-Fi,Thriller'\n",
      " 'Animation,Adventure,Comedy' 'Action,Adventure,Biography' 'Comedy'\n",
      " 'Drama' 'Biography,Drama,Family' 'Action,Adventure,Comedy'\n",
      " 'Action,Horror,Romance' 'Animation,Adventure,Comedy'\n",
      " 'Comedy,Crime,Thriller' 'Crime,Horror,Thriller' 'Action,Comedy,Mystery'\n",
      " 'Comedy,Crime,Drama' 'Animation,Adventure,Comedy' 'Horror,Thriller'\n",
      " 'Comedy' 'Animation' 'Animation,Drama,Romance'\n",
      " 'Animation,Adventure,Comedy' 'Crime,Drama,Music'\n",
      " 'Action,Mystery,Thriller' 'Drama' 'Action,Adventure'\n",
      " 'Adventure,Comedy,Sci-Fi' 'Animation,Adventure,Comedy' 'Drama,Fantasy'\n",
      " 'Action,Adventure,Crime' 'Adventure,Comedy,Family' 'Horror,Thriller'\n",
      " 'Adventure,Horror' 'Drama,History,Thriller' 'Action,Sci-Fi,Thriller'\n",
      " 'Action,Comedy,Crime' 'Comedy' 'Biography,Drama,History'\n",
      " 'Animation,Adventure,Comedy' 'Action,Adventure,Fantasy'\n",
      " 'Biography,Drama,History' 'Comedy,Romance' 'Comedy,Drama,Fantasy'\n",
      " 'Action,Adventure,Family' 'Action,Adventure,Fantasy'\n",
      " 'Action,Mystery,Sci-Fi' 'Action,Adventure,Sci-Fi' 'Comedy'\n",
      " 'Drama,Mystery,Sci-Fi' 'Fantasy,Horror,Thriller'\n",
      " 'Mystery,Sci-Fi,Thriller' 'Adventure,Mystery,Sci-Fi' 'Comedy'\n",
      " 'Drama,Music,Romance' 'Action,Adventure,Drama' 'Action,Adventure,Sci-Fi'\n",
      " 'Drama' 'Action,Adventure,Western' 'Action,Mystery,Thriller']\n",
      "                            precision    recall  f1-score   support\n",
      "\n",
      "                    Action       0.00      0.00      0.00         0\n",
      "          Action,Adventure       0.00      0.00      0.00         1\n",
      "Action,Adventure,Biography       0.00      0.00      0.00         0\n",
      "   Action,Adventure,Comedy       0.00      0.00      0.00         2\n",
      "    Action,Adventure,Crime       0.00      0.00      0.00         1\n",
      "    Action,Adventure,Drama       0.00      0.00      0.00         5\n",
      "   Action,Adventure,Family       0.33      1.00      0.50         1\n",
      "  Action,Adventure,Fantasy       0.00      0.00      0.00         7\n",
      "   Action,Adventure,Horror       0.00      0.00      0.00         1\n",
      "  Action,Adventure,Mystery       0.00      0.00      0.00         1\n",
      "   Action,Adventure,Sci-Fi       0.12      0.13      0.12        15\n",
      " Action,Adventure,Thriller       0.00      0.00      0.00         2\n",
      "  Action,Adventure,Western       0.00      0.00      0.00         0\n",
      "    Action,Biography,Drama       0.00      0.00      0.00         2\n",
      "             Action,Comedy       0.00      0.00      0.00         4\n",
      "       Action,Comedy,Crime       0.00      0.00      0.00         4\n",
      "      Action,Comedy,Family       0.00      0.00      0.00         1\n",
      "     Action,Comedy,Fantasy       0.00      0.00      0.00         1\n",
      "      Action,Comedy,Horror       0.00      0.00      0.00         1\n",
      "     Action,Comedy,Mystery       0.00      0.00      0.00         0\n",
      "       Action,Comedy,Sport       0.00      0.00      0.00         0\n",
      "        Action,Crime,Drama       0.00      0.00      0.00         6\n",
      "      Action,Crime,Fantasy       0.00      0.00      0.00         1\n",
      "      Action,Crime,Mystery       0.00      0.00      0.00         1\n",
      "     Action,Crime,Thriller       0.00      0.00      0.00         0\n",
      "       Action,Drama,Family       0.00      0.00      0.00         0\n",
      "      Action,Drama,Fantasy       0.00      0.00      0.00         1\n",
      "       Action,Drama,Horror       0.00      0.00      0.00         0\n",
      "      Action,Drama,Mystery       0.00      0.00      0.00         1\n",
      "       Action,Drama,Sci-Fi       0.00      0.00      0.00         0\n",
      "        Action,Drama,Sport       0.00      0.00      0.00         2\n",
      "     Action,Drama,Thriller       0.00      0.00      0.00         2\n",
      "     Action,Fantasy,Horror       0.00      0.00      0.00         1\n",
      "     Action,Horror,Romance       0.00      0.00      0.00         0\n",
      "      Action,Horror,Sci-Fi       0.00      0.00      0.00         1\n",
      "     Action,Mystery,Sci-Fi       0.00      0.00      0.00         0\n",
      "   Action,Mystery,Thriller       0.00      0.00      0.00         1\n",
      "             Action,Sci-Fi       0.00      0.00      0.00         1\n",
      "    Action,Sci-Fi,Thriller       0.00      0.00      0.00         2\n",
      "           Action,Thriller       0.00      0.00      0.00         1\n",
      "       Action,Thriller,War       0.00      0.00      0.00         1\n",
      "                 Adventure       0.00      0.00      0.00         2\n",
      "       Adventure,Biography       0.00      0.00      0.00         1\n",
      " Adventure,Biography,Crime       0.00      0.00      0.00         0\n",
      " Adventure,Biography,Drama       0.00      0.00      0.00         2\n",
      "          Adventure,Comedy       0.00      0.00      0.00         1\n",
      "    Adventure,Comedy,Drama       0.00      0.00      0.00         2\n",
      "   Adventure,Comedy,Family       0.00      0.00      0.00         0\n",
      "  Adventure,Comedy,Fantasy       0.00      0.00      0.00         1\n",
      "  Adventure,Comedy,Romance       0.00      0.00      0.00         1\n",
      "   Adventure,Comedy,Sci-Fi       0.00      0.00      0.00         0\n",
      "   Adventure,Crime,Mystery       0.00      0.00      0.00         0\n",
      "           Adventure,Drama       0.00      0.00      0.00         1\n",
      "    Adventure,Drama,Family       0.00      0.00      0.00         1\n",
      "   Adventure,Drama,Fantasy       0.00      0.00      0.00         1\n",
      "    Adventure,Drama,Sci-Fi       0.00      0.00      0.00         0\n",
      "  Adventure,Drama,Thriller       0.00      0.00      0.00         1\n",
      "       Adventure,Drama,War       0.00      0.00      0.00         0\n",
      "  Adventure,Family,Fantasy       0.00      0.00      0.00         6\n",
      "         Adventure,Fantasy       0.00      0.00      0.00         2\n",
      " Adventure,Fantasy,Mystery       0.00      0.00      0.00         0\n",
      "          Adventure,Horror       0.00      0.00      0.00         0\n",
      "  Adventure,Horror,Mystery       0.00      0.00      0.00         1\n",
      "  Adventure,Mystery,Sci-Fi       0.00      0.00      0.00         0\n",
      "                 Animation       0.00      0.00      0.00         0\n",
      "Animation,Action,Adventure       0.00      0.00      0.00         2\n",
      "   Animation,Action,Comedy       0.00      0.00      0.00         0\n",
      "Animation,Adventure,Comedy       0.00      0.00      0.00         4\n",
      "Animation,Adventure,Family       0.00      0.00      0.00         1\n",
      "   Animation,Comedy,Family       0.00      0.00      0.00         2\n",
      "   Animation,Drama,Romance       0.00      0.00      0.00         0\n",
      "  Animation,Family,Fantasy       0.00      0.00      0.00         0\n",
      "         Animation,Fantasy       0.00      0.00      0.00         1\n",
      "    Biography,Comedy,Drama       0.00      0.00      0.00         1\n",
      "     Biography,Crime,Drama       0.00      0.00      0.00         8\n",
      "           Biography,Drama       0.00      0.00      0.00         2\n",
      "    Biography,Drama,Family       0.00      0.00      0.00         0\n",
      "   Biography,Drama,History       0.00      0.00      0.00         4\n",
      "   Biography,Drama,Mystery       0.00      0.00      0.00         1\n",
      "   Biography,Drama,Romance       0.00      0.00      0.00         1\n",
      "     Biography,Drama,Sport       0.00      0.00      0.00         2\n",
      "  Biography,Drama,Thriller       0.00      0.00      0.00         0\n",
      "                    Comedy       0.14      0.08      0.10        13\n",
      "              Comedy,Crime       0.00      0.00      0.00         2\n",
      "        Comedy,Crime,Drama       0.00      0.00      0.00         0\n",
      "     Comedy,Crime,Thriller       0.00      0.00      0.00         0\n",
      "              Comedy,Drama       0.00      0.00      0.00         7\n",
      "       Comedy,Drama,Family       0.00      0.00      0.00         1\n",
      "      Comedy,Drama,Fantasy       0.00      0.00      0.00         0\n",
      "      Comedy,Drama,Musical       0.00      0.00      0.00         1\n",
      "      Comedy,Drama,Romance       0.00      0.00      0.00        11\n",
      "             Comedy,Family       0.00      0.00      0.00         2\n",
      "            Comedy,Fantasy       0.00      0.00      0.00         1\n",
      "     Comedy,Fantasy,Horror       0.00      0.00      0.00         1\n",
      "             Comedy,Horror       0.00      0.00      0.00         0\n",
      "     Comedy,Horror,Romance       0.00      0.00      0.00         0\n",
      "    Comedy,Horror,Thriller       0.00      0.00      0.00         1\n",
      "      Comedy,Music,Romance       0.00      0.00      0.00         0\n",
      "            Comedy,Romance       0.00      0.00      0.00         6\n",
      "             Comedy,Sci-Fi       0.00      0.00      0.00         1\n",
      "               Crime,Drama       0.00      0.00      0.00         5\n",
      "       Crime,Drama,Fantasy       0.00      0.00      0.00         0\n",
      "         Crime,Drama,Music       0.00      0.00      0.00         0\n",
      "       Crime,Drama,Mystery       0.00      0.00      0.00         8\n",
      "      Crime,Drama,Thriller       0.00      0.00      0.00         5\n",
      "     Crime,Horror,Thriller       0.00      0.00      0.00         1\n",
      "            Crime,Thriller       0.00      0.00      0.00         0\n",
      "                     Drama       0.07      0.09      0.08        11\n",
      "              Drama,Family       0.00      0.00      0.00         0\n",
      "      Drama,Family,Fantasy       0.00      0.00      0.00         0\n",
      "             Drama,Fantasy       0.00      0.00      0.00         0\n",
      "      Drama,Fantasy,Horror       0.00      0.00      0.00         4\n",
      "     Drama,Fantasy,Musical       0.00      0.00      0.00         0\n",
      "     Drama,Fantasy,Mystery       0.00      0.00      0.00         0\n",
      "     Drama,Fantasy,Romance       0.00      0.00      0.00         0\n",
      "    Drama,Fantasy,Thriller       0.00      0.00      0.00         1\n",
      "             Drama,History       0.00      0.00      0.00         0\n",
      "    Drama,History,Thriller       0.00      0.00      0.00         2\n",
      "              Drama,Horror       0.00      0.00      0.00         2\n",
      "      Drama,Horror,Musical       0.00      0.00      0.00         0\n",
      "      Drama,Horror,Mystery       0.00      0.00      0.00         2\n",
      "       Drama,Horror,Sci-Fi       0.00      0.00      0.00         1\n",
      "     Drama,Horror,Thriller       0.00      0.00      0.00         1\n",
      "               Drama,Music       0.00      0.00      0.00         1\n",
      "       Drama,Music,Romance       0.00      0.00      0.00         0\n",
      "     Drama,Mystery,Romance       0.00      0.00      0.00         3\n",
      "      Drama,Mystery,Sci-Fi       0.00      0.00      0.00         2\n",
      "    Drama,Mystery,Thriller       0.00      0.00      0.00         1\n",
      "         Drama,Mystery,War       0.00      0.00      0.00         0\n",
      "             Drama,Romance       0.00      0.00      0.00         7\n",
      "      Drama,Romance,Sci-Fi       0.00      0.00      0.00         0\n",
      "    Drama,Romance,Thriller       0.00      0.00      0.00         0\n",
      "         Drama,Romance,War       0.00      0.00      0.00         1\n",
      "              Drama,Sci-Fi       0.00      0.00      0.00         0\n",
      "     Drama,Sci-Fi,Thriller       0.00      0.00      0.00         1\n",
      "               Drama,Sport       0.00      0.00      0.00         3\n",
      "            Drama,Thriller       0.00      0.00      0.00         5\n",
      "                 Drama,War       0.00      0.00      0.00         1\n",
      "             Drama,Western       0.00      0.00      0.00         1\n",
      "   Fantasy,Horror,Thriller       0.00      0.00      0.00         0\n",
      "  Fantasy,Mystery,Thriller       0.00      0.00      0.00         0\n",
      "                    Horror       0.00      0.00      0.00         3\n",
      "            Horror,Mystery       0.00      0.00      0.00         0\n",
      "     Horror,Mystery,Sci-Fi       0.00      0.00      0.00         1\n",
      "   Horror,Mystery,Thriller       0.00      0.00      0.00         3\n",
      "    Horror,Sci-Fi,Thriller       0.00      0.00      0.00         0\n",
      "           Horror,Thriller       0.00      0.00      0.00         0\n",
      "  Mystery,Romance,Thriller       0.00      0.00      0.00         1\n",
      "   Mystery,Sci-Fi,Thriller       0.00      0.00      0.00         1\n",
      "          Mystery,Thriller       0.00      0.00      0.00         0\n",
      "   Romance,Sci-Fi,Thriller       0.00      0.00      0.00         1\n",
      "                  Thriller       0.00      0.00      0.00         1\n",
      "\n",
      "                  accuracy                           0.02       250\n",
      "                 macro avg       0.00      0.01      0.01       250\n",
      "              weighted avg       0.02      0.02      0.02       250\n",
      "\n",
      "************Matriz Confusion*************\n",
      "[[0 0 0 ... 0 0 0]\n",
      " [0 0 0 ... 0 0 0]\n",
      " [0 0 0 ... 0 0 0]\n",
      " ...\n",
      " [0 0 0 ... 0 0 0]\n",
      " [0 0 0 ... 0 0 0]\n",
      " [0 0 0 ... 0 0 0]]\n"
     ]
    },
    {
     "name": "stderr",
     "output_type": "stream",
     "text": [
      "C:\\ProgramData\\Anaconda3\\lib\\site-packages\\sklearn\\metrics\\_classification.py:1221: UndefinedMetricWarning: Precision and F-score are ill-defined and being set to 0.0 in labels with no predicted samples. Use `zero_division` parameter to control this behavior.\n",
      "  _warn_prf(average, modifier, msg_start, len(result))\n",
      "C:\\ProgramData\\Anaconda3\\lib\\site-packages\\sklearn\\metrics\\_classification.py:1221: UndefinedMetricWarning: Recall and F-score are ill-defined and being set to 0.0 in labels with no true samples. Use `zero_division` parameter to control this behavior.\n",
      "  _warn_prf(average, modifier, msg_start, len(result))\n"
     ]
    }
   ],
   "source": [
    "from sklearn.model_selection import train_test_split\n",
    "X_train,X_test,y_train,y_test=train_test_split(X,nuevo)\n",
    "from sklearn.preprocessing import StandardScaler\n",
    "scaler=StandardScaler()\n",
    "scaler.fit(X_train)\n",
    "X_train=scaler.transform(X_train)\n",
    "X_test=scaler.transform(X_test)\n",
    "\n",
    "from sklearn.neural_network import MLPClassifier\n",
    "mlp=MLPClassifier(hidden_layer_sizes=(100,100,100), max_iter=5000, alpha=0.0001,\n",
    "                     solver='adam', random_state=42,tol=0.000000001)\n",
    "#mlp = MLPClassifier(hidden_layer_sizes=(6,6,6,6),solver='lbfgs',max_iter=500)\n",
    "\n",
    "mlp.fit(X_train,y_train)\n",
    "predictions=mlp.predict(X_test)\n",
    "print(predictions)\n",
    "\n",
    "from sklearn.metrics import classification_report\n",
    "print(classification_report(y_test,predictions))\n",
    "from sklearn.metrics import confusion_matrix\n",
    "print('************Matriz Confusion*************')\n",
    "matrizc= confusion_matrix(y_test,predictions)\n",
    "print(matrizc)\n",
    "\n",
    "#matrizc.to_csv('datosmatriz.csv',sep='\\t')\n",
    "\n",
    "\n"
   ]
  },
  {
   "cell_type": "code",
   "execution_count": 34,
   "metadata": {},
   "outputs": [],
   "source": [
    "from sklearn.preprocessing import StandardScaler  \n",
    "scaler = StandardScaler()  \n",
    "scaler.fit(X)\n",
    "st= scaler.transform(X) \n"
   ]
  },
  {
   "cell_type": "code",
   "execution_count": 35,
   "metadata": {},
   "outputs": [
    {
     "name": "stdout",
     "output_type": "stream",
     "text": [
      "[[ 1.45699912  1.02336136]\n",
      " [ 0.29292371  0.36176846]\n",
      " [ 0.61039882  0.18133403]\n",
      " ...\n",
      " [-0.5536766  -0.54040368]\n",
      " [-1.18862683 -2.22445834]\n",
      " [-1.50610194 -2.88605124]]\n"
     ]
    }
   ],
   "source": [
    "print(st)"
   ]
  },
  {
   "cell_type": "markdown",
   "metadata": {},
   "source": [
    "<h1>PRUEBAS</h1>"
   ]
  },
  {
   "cell_type": "markdown",
   "metadata": {},
   "source": [
    "Realizamos la importacion para generar los splits"
   ]
  },
  {
   "cell_type": "code",
   "execution_count": 38,
   "metadata": {},
   "outputs": [],
   "source": [
    "from sklearn.ensemble import RandomForestClassifier\n",
    "from sklearn.naive_bayes import GaussianNB\n",
    "from sklearn.model_selection import StratifiedShuffleSplit\n",
    "from sklearn.model_selection import cross_val_score \n"
   ]
  },
  {
   "cell_type": "code",
   "execution_count": null,
   "metadata": {},
   "outputs": [],
   "source": [
    "Con StratifiedShuffleSplit sacaremos los 10 splits"
   ]
  },
  {
   "cell_type": "code",
   "execution_count": 43,
   "metadata": {},
   "outputs": [
    {
     "data": {
      "text/plain": [
       "10"
      ]
     },
     "execution_count": 43,
     "metadata": {},
     "output_type": "execute_result"
    }
   ],
   "source": [
    "sP= StratifiedShuffleSplit(n_splits=10, test_size=0.5, random_state=0)\n",
    "sP.get_n_splits(st, y)\n"
   ]
  },
  {
   "cell_type": "markdown",
   "metadata": {},
   "source": [
    "Ahora realizaremos por cada split su clasificacion con Redes Neuronales"
   ]
  },
  {
   "cell_type": "code",
   "execution_count": 56,
   "metadata": {
    "scrolled": true
   },
   "outputs": [
    {
     "ename": "ValueError",
     "evalue": "The least populated class in y has only 1 member, which is too few. The minimum number of groups for any class cannot be less than 2.",
     "output_type": "error",
     "traceback": [
      "\u001b[1;31m---------------------------------------------------------------------------\u001b[0m",
      "\u001b[1;31mValueError\u001b[0m                                Traceback (most recent call last)",
      "\u001b[1;32m<ipython-input-56-81ee7a0057aa>\u001b[0m in \u001b[0;36m<module>\u001b[1;34m\u001b[0m\n\u001b[0;32m      3\u001b[0m \u001b[1;33m\u001b[0m\u001b[0m\n\u001b[0;32m      4\u001b[0m \u001b[1;33m\u001b[0m\u001b[0m\n\u001b[1;32m----> 5\u001b[1;33m \u001b[1;32mfor\u001b[0m \u001b[0mtrain_index\u001b[0m\u001b[1;33m,\u001b[0m \u001b[0mtest_index\u001b[0m \u001b[1;32min\u001b[0m  \u001b[0msP\u001b[0m\u001b[1;33m.\u001b[0m\u001b[0msplit\u001b[0m\u001b[1;33m(\u001b[0m\u001b[0mst\u001b[0m\u001b[1;33m,\u001b[0m \u001b[0my\u001b[0m\u001b[1;33m)\u001b[0m\u001b[1;33m:\u001b[0m\u001b[1;33m\u001b[0m\u001b[1;33m\u001b[0m\u001b[0m\n\u001b[0m\u001b[0;32m      6\u001b[0m \u001b[1;33m\u001b[0m\u001b[0m\n\u001b[0;32m      7\u001b[0m     \u001b[0mXtrain\u001b[0m\u001b[1;33m,\u001b[0m \u001b[0mXtest\u001b[0m \u001b[1;33m=\u001b[0m \u001b[0mst\u001b[0m\u001b[1;33m[\u001b[0m\u001b[0mtrain_index\u001b[0m\u001b[1;33m]\u001b[0m\u001b[1;33m,\u001b[0m\u001b[0mst\u001b[0m\u001b[1;33m[\u001b[0m\u001b[0mtest_index\u001b[0m\u001b[1;33m]\u001b[0m\u001b[1;33m\u001b[0m\u001b[1;33m\u001b[0m\u001b[0m\n",
      "\u001b[1;32mC:\\ProgramData\\Anaconda3\\lib\\site-packages\\sklearn\\model_selection\\_split.py\u001b[0m in \u001b[0;36msplit\u001b[1;34m(self, X, y, groups)\u001b[0m\n\u001b[0;32m   1339\u001b[0m         \"\"\"\n\u001b[0;32m   1340\u001b[0m         \u001b[0mX\u001b[0m\u001b[1;33m,\u001b[0m \u001b[0my\u001b[0m\u001b[1;33m,\u001b[0m \u001b[0mgroups\u001b[0m \u001b[1;33m=\u001b[0m \u001b[0mindexable\u001b[0m\u001b[1;33m(\u001b[0m\u001b[0mX\u001b[0m\u001b[1;33m,\u001b[0m \u001b[0my\u001b[0m\u001b[1;33m,\u001b[0m \u001b[0mgroups\u001b[0m\u001b[1;33m)\u001b[0m\u001b[1;33m\u001b[0m\u001b[1;33m\u001b[0m\u001b[0m\n\u001b[1;32m-> 1341\u001b[1;33m         \u001b[1;32mfor\u001b[0m \u001b[0mtrain\u001b[0m\u001b[1;33m,\u001b[0m \u001b[0mtest\u001b[0m \u001b[1;32min\u001b[0m \u001b[0mself\u001b[0m\u001b[1;33m.\u001b[0m\u001b[0m_iter_indices\u001b[0m\u001b[1;33m(\u001b[0m\u001b[0mX\u001b[0m\u001b[1;33m,\u001b[0m \u001b[0my\u001b[0m\u001b[1;33m,\u001b[0m \u001b[0mgroups\u001b[0m\u001b[1;33m)\u001b[0m\u001b[1;33m:\u001b[0m\u001b[1;33m\u001b[0m\u001b[1;33m\u001b[0m\u001b[0m\n\u001b[0m\u001b[0;32m   1342\u001b[0m             \u001b[1;32myield\u001b[0m \u001b[0mtrain\u001b[0m\u001b[1;33m,\u001b[0m \u001b[0mtest\u001b[0m\u001b[1;33m\u001b[0m\u001b[1;33m\u001b[0m\u001b[0m\n\u001b[0;32m   1343\u001b[0m \u001b[1;33m\u001b[0m\u001b[0m\n",
      "\u001b[1;32mC:\\ProgramData\\Anaconda3\\lib\\site-packages\\sklearn\\model_selection\\_split.py\u001b[0m in \u001b[0;36m_iter_indices\u001b[1;34m(self, X, y, groups)\u001b[0m\n\u001b[0;32m   1666\u001b[0m         \u001b[0mclass_counts\u001b[0m \u001b[1;33m=\u001b[0m \u001b[0mnp\u001b[0m\u001b[1;33m.\u001b[0m\u001b[0mbincount\u001b[0m\u001b[1;33m(\u001b[0m\u001b[0my_indices\u001b[0m\u001b[1;33m)\u001b[0m\u001b[1;33m\u001b[0m\u001b[1;33m\u001b[0m\u001b[0m\n\u001b[0;32m   1667\u001b[0m         \u001b[1;32mif\u001b[0m \u001b[0mnp\u001b[0m\u001b[1;33m.\u001b[0m\u001b[0mmin\u001b[0m\u001b[1;33m(\u001b[0m\u001b[0mclass_counts\u001b[0m\u001b[1;33m)\u001b[0m \u001b[1;33m<\u001b[0m \u001b[1;36m2\u001b[0m\u001b[1;33m:\u001b[0m\u001b[1;33m\u001b[0m\u001b[1;33m\u001b[0m\u001b[0m\n\u001b[1;32m-> 1668\u001b[1;33m             raise ValueError(\"The least populated class in y has only 1\"\n\u001b[0m\u001b[0;32m   1669\u001b[0m                              \u001b[1;34m\" member, which is too few. The minimum\"\u001b[0m\u001b[1;33m\u001b[0m\u001b[1;33m\u001b[0m\u001b[0m\n\u001b[0;32m   1670\u001b[0m                              \u001b[1;34m\" number of groups for any class cannot\"\u001b[0m\u001b[1;33m\u001b[0m\u001b[1;33m\u001b[0m\u001b[0m\n",
      "\u001b[1;31mValueError\u001b[0m: The least populated class in y has only 1 member, which is too few. The minimum number of groups for any class cannot be less than 2."
     ]
    }
   ],
   "source": [
    "i=1\n",
    "from sklearn.neural_network import MLPClassifier\n",
    "\n",
    "\n",
    "for train_index, test_index in  sP.split(st, y):\n",
    " \n",
    "    Xtrain, Xtest = st[train_index],st[test_index]\n",
    "    ytrain, ytest = y.values[train_index],y.values[test_index]\n",
    "\n",
    "\n",
    "    randomf = RandomForestClassifier(random_state=0)\n",
    "    gnb = GaussianNB()\n",
    "    clf = MLPClassifier(solver='lbfgs', alpha=1e-5,  hidden_layer_sizes=(3, 3,3), random_state=300,max_iter=5000)\n",
    "    \n",
    "    sk_clasificador = {'GaussianNB':gnb,\n",
    "                       'RandomForest':randomf,\n",
    "                       'MLP': clf}\n",
    "    \n",
    "    for clasifier in sk_clasificador:\n",
    "        estimador = sk_clasificador[clasifier]\n",
    "        \n",
    "        estimador.fit(Xtrain, ytrain)\n",
    "        \n",
    "    \n",
    "        predic = estimador.predict(Xtest)\n",
    "       \n",
    "        print(ytest)\n",
    "       \n",
    "        print(predic)\n",
    "    \n",
    "    \n",
    "    i+=1\n",
    "    print('\\n')"
   ]
  },
  {
   "cell_type": "code",
   "execution_count": null,
   "metadata": {},
   "outputs": [],
   "source": []
  }
 ],
 "metadata": {
  "kernelspec": {
   "display_name": "Python 3",
   "language": "python",
   "name": "python3"
  },
  "language_info": {
   "codemirror_mode": {
    "name": "ipython",
    "version": 3
   },
   "file_extension": ".py",
   "mimetype": "text/x-python",
   "name": "python",
   "nbconvert_exporter": "python",
   "pygments_lexer": "ipython3",
   "version": "3.8.5"
  }
 },
 "nbformat": 4,
 "nbformat_minor": 4
}
